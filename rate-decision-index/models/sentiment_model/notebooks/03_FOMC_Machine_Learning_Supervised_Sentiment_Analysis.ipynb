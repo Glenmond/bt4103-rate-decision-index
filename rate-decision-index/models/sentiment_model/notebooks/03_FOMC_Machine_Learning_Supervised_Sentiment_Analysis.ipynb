{
 "cells": [
  {
   "cell_type": "markdown",
   "id": "7f4be61e",
   "metadata": {
    "id": "a578868c"
   },
   "source": [
    "## Sentiment Analysis Using Supervised Learning Approach\n",
    "Purpose: To use Machine Learning Method, using TFIDF Vectorizer to vectorize the corpus, to predict labels"
   ]
  },
  {
   "cell_type": "code",
   "execution_count": 1,
   "id": "e1ac77ea",
   "metadata": {
    "id": "6489bec9"
   },
   "outputs": [],
   "source": [
    "import pandas as pd\n",
    "import numpy as np\n",
    "import os\n",
    "\n",
    "from sklearn.model_selection import train_test_split, StratifiedKFold\n",
    "from sklearn.feature_extraction.text import CountVectorizer\n",
    "from sklearn.feature_extraction.text import TfidfVectorizer\n",
    "from sklearn import metrics\n",
    "from sklearn.dummy import DummyClassifier\n",
    "from sklearn.naive_bayes import MultinomialNB\n",
    "from sklearn.linear_model import LogisticRegression\n",
    "from sklearn import svm, tree\n",
    "from sklearn.ensemble import RandomForestClassifier, StackingClassifier\n",
    "from sklearn.neighbors import KNeighborsClassifier\n",
    "\n",
    "from xgboost import XGBClassifier\n",
    "\n",
    "from sklearn import model_selection\n",
    "from sklearn.model_selection import GridSearchCV\n",
    "from sklearn.model_selection import RandomizedSearchCV\n",
    "\n",
    "from sklearn import preprocessing\n",
    "from sklearn.pipeline import Pipeline\n",
    "\n",
    "from sklearn.preprocessing import LabelEncoder"
   ]
  },
  {
   "cell_type": "markdown",
   "id": "3e1c2e31",
   "metadata": {
    "id": "3a505866"
   },
   "source": [
    "### 1. Read data from prelabelled data"
   ]
  },
  {
   "cell_type": "code",
   "execution_count": 2,
   "id": "152a4cb7",
   "metadata": {
    "id": "8P-yMG40IKQh"
   },
   "outputs": [
    {
     "data": {
      "text/html": [
       "<div>\n",
       "<style scoped>\n",
       "    .dataframe tbody tr th:only-of-type {\n",
       "        vertical-align: middle;\n",
       "    }\n",
       "\n",
       "    .dataframe tbody tr th {\n",
       "        vertical-align: top;\n",
       "    }\n",
       "\n",
       "    .dataframe thead th {\n",
       "        text-align: right;\n",
       "    }\n",
       "</style>\n",
       "<table border=\"1\" class=\"dataframe\">\n",
       "  <thead>\n",
       "    <tr style=\"text-align: right;\">\n",
       "      <th></th>\n",
       "      <th>Date</th>\n",
       "      <th>Original</th>\n",
       "      <th>Corpus</th>\n",
       "      <th>Class</th>\n",
       "    </tr>\n",
       "  </thead>\n",
       "  <tbody>\n",
       "    <tr>\n",
       "      <th>0</th>\n",
       "      <td>2003-12-09</td>\n",
       "      <td>consequence sales profits stock prices higher ...</td>\n",
       "      <td>consequence sale profit stock price high liqui...</td>\n",
       "      <td>-1</td>\n",
       "    </tr>\n",
       "    <tr>\n",
       "      <th>1</th>\n",
       "      <td>2003-12-09</td>\n",
       "      <td>even though unemployment rate projected declin...</td>\n",
       "      <td>even though unemployment rate project decline ...</td>\n",
       "      <td>-1</td>\n",
       "    </tr>\n",
       "    <tr>\n",
       "      <th>2</th>\n",
       "      <td>2003-12-09</td>\n",
       "      <td>assessments individual members likely pace exp...</td>\n",
       "      <td>assessment individual member likely pace expan...</td>\n",
       "      <td>-1</td>\n",
       "    </tr>\n",
       "    <tr>\n",
       "      <th>3</th>\n",
       "      <td>2003-12-09</td>\n",
       "      <td>downside risks outlook diminished members rema...</td>\n",
       "      <td>downside risk outlook diminish member remain c...</td>\n",
       "      <td>-1</td>\n",
       "    </tr>\n",
       "    <tr>\n",
       "      <th>4</th>\n",
       "      <td>2003-12-09</td>\n",
       "      <td>rapid productivity growth also could limit emp...</td>\n",
       "      <td>rapid productivity growth also could limit emp...</td>\n",
       "      <td>-1</td>\n",
       "    </tr>\n",
       "    <tr>\n",
       "      <th>...</th>\n",
       "      <td>...</td>\n",
       "      <td>...</td>\n",
       "      <td>...</td>\n",
       "      <td>...</td>\n",
       "    </tr>\n",
       "    <tr>\n",
       "      <th>2533</th>\n",
       "      <td>2017-06-14</td>\n",
       "      <td>labor market conditions continued strengthen r...</td>\n",
       "      <td>labor market condition continued strengthen re...</td>\n",
       "      <td>1</td>\n",
       "    </tr>\n",
       "    <tr>\n",
       "      <th>2534</th>\n",
       "      <td>2017-06-14</td>\n",
       "      <td>unemployment rate fell</td>\n",
       "      <td>unemployment rate fell</td>\n",
       "      <td>1</td>\n",
       "    </tr>\n",
       "    <tr>\n",
       "      <th>2535</th>\n",
       "      <td>2017-06-14</td>\n",
       "      <td>information received since federal open market...</td>\n",
       "      <td>information receive since federal open market ...</td>\n",
       "      <td>1</td>\n",
       "    </tr>\n",
       "    <tr>\n",
       "      <th>2536</th>\n",
       "      <td>2017-06-14</td>\n",
       "      <td>job gains moderated solid average since beginn...</td>\n",
       "      <td>job gain moderate solid average since begin ye...</td>\n",
       "      <td>1</td>\n",
       "    </tr>\n",
       "    <tr>\n",
       "      <th>2537</th>\n",
       "      <td>2017-06-14</td>\n",
       "      <td>household spending picked recent months busine...</td>\n",
       "      <td>household spending picked recent month busines...</td>\n",
       "      <td>1</td>\n",
       "    </tr>\n",
       "  </tbody>\n",
       "</table>\n",
       "<p>2538 rows × 4 columns</p>\n",
       "</div>"
      ],
      "text/plain": [
       "            Date                                           Original  \\\n",
       "0     2003-12-09  consequence sales profits stock prices higher ...   \n",
       "1     2003-12-09  even though unemployment rate projected declin...   \n",
       "2     2003-12-09  assessments individual members likely pace exp...   \n",
       "3     2003-12-09  downside risks outlook diminished members rema...   \n",
       "4     2003-12-09  rapid productivity growth also could limit emp...   \n",
       "...          ...                                                ...   \n",
       "2533  2017-06-14  labor market conditions continued strengthen r...   \n",
       "2534  2017-06-14                            unemployment rate fell    \n",
       "2535  2017-06-14  information received since federal open market...   \n",
       "2536  2017-06-14  job gains moderated solid average since beginn...   \n",
       "2537  2017-06-14  household spending picked recent months busine...   \n",
       "\n",
       "                                                 Corpus  Class  \n",
       "0     consequence sale profit stock price high liqui...     -1  \n",
       "1     even though unemployment rate project decline ...     -1  \n",
       "2     assessment individual member likely pace expan...     -1  \n",
       "3     downside risk outlook diminish member remain c...     -1  \n",
       "4     rapid productivity growth also could limit emp...     -1  \n",
       "...                                                 ...    ...  \n",
       "2533  labor market condition continued strengthen re...      1  \n",
       "2534                             unemployment rate fell      1  \n",
       "2535  information receive since federal open market ...      1  \n",
       "2536  job gain moderate solid average since begin ye...      1  \n",
       "2537  household spending picked recent month busines...      1  \n",
       "\n",
       "[2538 rows x 4 columns]"
      ]
     },
     "execution_count": 2,
     "metadata": {},
     "output_type": "execute_result"
    }
   ],
   "source": [
    "f = '../../data/db/labelled_data/labelled.csv'\n",
    "df = pd.read_csv(f, index_col=0)\n",
    "\n",
    "# Filter out Class 0: aka Neutral\n",
    "df = df[df['Class'] != 0]\n",
    "df.reset_index(inplace=True, drop=True)\n",
    "df"
   ]
  },
  {
   "cell_type": "markdown",
   "id": "464f38a7",
   "metadata": {
    "id": "e00c1639"
   },
   "source": [
    "### 2. Preprocessing of dataset\n",
    "- Encode the 'Class' column to integers\n",
    "- Split dataset into train and test"
   ]
  },
  {
   "cell_type": "code",
   "execution_count": 3,
   "id": "773693d1",
   "metadata": {
    "id": "94671dae"
   },
   "outputs": [],
   "source": [
    "# -1 -> 0 (DOVISH)\n",
    "# 1 -> 1 (HAWKISH)\n",
    "\n",
    "le = LabelEncoder()\n",
    "df['Class_Label'] = le.fit_transform(df['Class'])"
   ]
  },
  {
   "cell_type": "code",
   "execution_count": 4,
   "id": "7bfdf6fc",
   "metadata": {
    "id": "df62d35c"
   },
   "outputs": [],
   "source": [
    "X_train, X_test, y_train, y_test = train_test_split(df[['Corpus']], df['Class_Label'], shuffle=True, test_size=0.30)"
   ]
  },
  {
   "cell_type": "markdown",
   "id": "cbff02ff",
   "metadata": {
    "id": "3d2d7bf3"
   },
   "source": [
    "### 3. Classification Models"
   ]
  },
  {
   "cell_type": "markdown",
   "id": "9cded80a",
   "metadata": {
    "id": "48765435"
   },
   "source": [
    "### TfidfVectorizer For Corpus"
   ]
  },
  {
   "cell_type": "code",
   "execution_count": 13,
   "id": "7cfa24d9",
   "metadata": {
    "colab": {
     "base_uri": "https://localhost:8080/"
    },
    "id": "18deab24",
    "outputId": "3bed28fd-0f68-4381-f1ff-e5bf3dca7f85"
   },
   "outputs": [
    {
     "data": {
      "text/plain": [
       "Pipeline(steps=[('tfidf', TfidfVectorizer()), ('logreg', LogisticRegression())])"
      ]
     },
     "execution_count": 13,
     "metadata": {},
     "output_type": "execute_result"
    }
   ],
   "source": [
    "pipeline = Pipeline([\n",
    "                     ('tfidf', TfidfVectorizer()),\n",
    "                     ('logreg', LogisticRegression(solver='lbfgs'))\n",
    "])\n",
    "\n",
    "pipeline.fit(X_train.Corpus, y_train)"
   ]
  },
  {
   "cell_type": "code",
   "execution_count": 14,
   "id": "c8d4ab9e",
   "metadata": {
    "colab": {
     "base_uri": "https://localhost:8080/"
    },
    "id": "3f1307a5",
    "outputId": "9a619d1b-8df2-4c05-c665-35bbcf5baf76",
    "scrolled": true
   },
   "outputs": [
    {
     "data": {
      "text/plain": [
       "0.7401574803149606"
      ]
     },
     "execution_count": 14,
     "metadata": {},
     "output_type": "execute_result"
    }
   ],
   "source": [
    "metrics.accuracy_score(y_test, pipeline.predict(X_test.Corpus))"
   ]
  },
  {
   "cell_type": "code",
   "execution_count": 15,
   "id": "8203fac9",
   "metadata": {
    "colab": {
     "base_uri": "https://localhost:8080/"
    },
    "id": "43988c0f",
    "outputId": "79a1bf86-b540-482b-9440-29b64fd4fe6a"
   },
   "outputs": [
    {
     "name": "stdout",
     "output_type": "stream",
     "text": [
      "Fitting 5 folds for each of 144 candidates, totalling 720 fits\n",
      "CPU times: user 4.03 s, sys: 296 ms, total: 4.32 s\n",
      "Wall time: 53.6 s\n"
     ]
    },
    {
     "data": {
      "text/plain": [
       "GridSearchCV(estimator=Pipeline(steps=[('tfidf', TfidfVectorizer()),\n",
       "                                       ('logreg', LogisticRegression())]),\n",
       "             n_jobs=-1,\n",
       "             param_grid={'tfidf__max_df': array([0.16, 0.17, 0.18, 0.19, 0.2 , 0.21]),\n",
       "                         'tfidf__min_df': range(7, 15),\n",
       "                         'tfidf__ngram_range': [(1, 1), (1, 2), (1, 3)]},\n",
       "             verbose=5)"
      ]
     },
     "execution_count": 15,
     "metadata": {},
     "output_type": "execute_result"
    }
   ],
   "source": [
    "%%time\n",
    "\n",
    "parameters = {\n",
    "    'tfidf__ngram_range': [(1, 1), (1, 2), (1,3)],\n",
    "    'tfidf__max_df': np.linspace(0.16, 0.21, 6),\n",
    "    'tfidf__min_df': range(7, 15),\n",
    "}\n",
    "\n",
    "clf = GridSearchCV(pipeline, parameters, n_jobs=-1, verbose=5)\n",
    "clf.fit(X_train.Corpus, y_train)"
   ]
  },
  {
   "cell_type": "code",
   "execution_count": 16,
   "id": "e726b3ed",
   "metadata": {
    "colab": {
     "base_uri": "https://localhost:8080/"
    },
    "id": "ad1ae3bc",
    "outputId": "0c81e0cf-a94a-40c5-9039-8febe9e319fe"
   },
   "outputs": [
    {
     "data": {
      "text/plain": [
       "{'tfidf__max_df': 0.19, 'tfidf__min_df': 8, 'tfidf__ngram_range': (1, 1)}"
      ]
     },
     "execution_count": 16,
     "metadata": {},
     "output_type": "execute_result"
    }
   ],
   "source": [
    "clf.best_params_"
   ]
  },
  {
   "cell_type": "markdown",
   "id": "6aa060b9",
   "metadata": {
    "id": "a36e259b"
   },
   "source": [
    "#### Tune with an updated set of parameter space\n",
    "(To provide a more conclusive results)"
   ]
  },
  {
   "cell_type": "code",
   "execution_count": 17,
   "id": "5082ec52",
   "metadata": {
    "id": "ba35f39c"
   },
   "outputs": [],
   "source": [
    "parameters_updated = {\n",
    "    'tfidf__ngram_range': [(1, 1), (1, 2), (1, 3)],\n",
    "    'tfidf__max_df': np.linspace(0.16, 0.30, 6),\n",
    "    'tfidf__min_df': range(5, 15),\n",
    "}"
   ]
  },
  {
   "cell_type": "code",
   "execution_count": 18,
   "id": "4bcaea5a",
   "metadata": {
    "colab": {
     "base_uri": "https://localhost:8080/"
    },
    "id": "a641f846",
    "outputId": "652f57c1-7cbb-48aa-f44e-0d4d67ecc89a"
   },
   "outputs": [
    {
     "name": "stdout",
     "output_type": "stream",
     "text": [
      "Fitting 5 folds for each of 180 candidates, totalling 900 fits\n"
     ]
    },
    {
     "data": {
      "text/plain": [
       "GridSearchCV(estimator=Pipeline(steps=[('tfidf', TfidfVectorizer()),\n",
       "                                       ('logreg', LogisticRegression())]),\n",
       "             n_jobs=-1,\n",
       "             param_grid={'tfidf__max_df': array([0.16 , 0.188, 0.216, 0.244, 0.272, 0.3  ]),\n",
       "                         'tfidf__min_df': range(5, 15),\n",
       "                         'tfidf__ngram_range': [(1, 1), (1, 2), (1, 3)]},\n",
       "             verbose=5)"
      ]
     },
     "execution_count": 18,
     "metadata": {},
     "output_type": "execute_result"
    }
   ],
   "source": [
    "clf_updated = GridSearchCV(pipeline, parameters_updated, n_jobs=-1, verbose=5)\n",
    "clf_updated.fit(X_train.Corpus, y_train)"
   ]
  },
  {
   "cell_type": "code",
   "execution_count": 19,
   "id": "f220f4b9",
   "metadata": {
    "colab": {
     "base_uri": "https://localhost:8080/"
    },
    "id": "64c0211c",
    "outputId": "f34a2c4a-7828-4232-ac78-e58426a81fd8"
   },
   "outputs": [
    {
     "data": {
      "text/plain": [
       "{'tfidf__max_df': 0.216, 'tfidf__min_df': 5, 'tfidf__ngram_range': (1, 2)}"
      ]
     },
     "execution_count": 19,
     "metadata": {},
     "output_type": "execute_result"
    }
   ],
   "source": [
    "clf_updated.best_params_"
   ]
  },
  {
   "cell_type": "markdown",
   "id": "ff911be4",
   "metadata": {
    "id": "fe03d60f"
   },
   "source": [
    "#### Use the parameters to vectorize the Corpus column"
   ]
  },
  {
   "cell_type": "code",
   "execution_count": 5,
   "id": "7e12f40c",
   "metadata": {
    "id": "c79d7e42"
   },
   "outputs": [],
   "source": [
    "tfidf_vect = TfidfVectorizer(max_df=0.216, min_df=7, ngram_range=(1, 1))\n",
    "\n",
    "X_train_dtm = tfidf_vect.fit_transform(X_train.Corpus)\n",
    "X_test_dtm = tfidf_vect.transform(X_test.Corpus)"
   ]
  },
  {
   "cell_type": "markdown",
   "id": "d20d9442",
   "metadata": {},
   "source": [
    "### Logistic Regression"
   ]
  },
  {
   "cell_type": "code",
   "execution_count": 14,
   "id": "9822b032",
   "metadata": {
    "colab": {
     "base_uri": "https://localhost:8080/"
    },
    "id": "a935b2c3",
    "outputId": "8822c133-2f69-4717-97f7-f308e0defe3f"
   },
   "outputs": [
    {
     "data": {
      "text/plain": [
       "Pipeline(memory=None,\n",
       "         steps=[('tfidf',\n",
       "                 TfidfVectorizer(analyzer='word', binary=False,\n",
       "                                 decode_error='strict',\n",
       "                                 dtype=<class 'numpy.float64'>,\n",
       "                                 encoding='utf-8', input='content',\n",
       "                                 lowercase=True, max_df=0.216,\n",
       "                                 max_features=None, min_df=14,\n",
       "                                 ngram_range=(1, 1), norm='l2',\n",
       "                                 preprocessor=None, smooth_idf=True,\n",
       "                                 stop_words=None, strip_accents=None,\n",
       "                                 sublinear_tf=False,\n",
       "                                 token_pattern='(?u)\\\\b\\\\w\\\\w+\\\\b',\n",
       "                                 tokenizer=None, use_idf=True,\n",
       "                                 vocabulary=None)),\n",
       "                ('logreg',\n",
       "                 LogisticRegression(C=1.0, class_weight=None, dual=False,\n",
       "                                    fit_intercept=True, intercept_scaling=1,\n",
       "                                    l1_ratio=None, max_iter=100,\n",
       "                                    multi_class='auto', n_jobs=None,\n",
       "                                    penalty='l2', random_state=None,\n",
       "                                    solver='lbfgs', tol=0.0001, verbose=0,\n",
       "                                    warm_start=False))],\n",
       "         verbose=False)"
      ]
     },
     "execution_count": 14,
     "metadata": {},
     "output_type": "execute_result"
    }
   ],
   "source": [
    "# Tune logreg model \n",
    "pipeline_logreg = Pipeline([\n",
    "                     ('tfidf', TfidfVectorizer(max_df=0.216, min_df=14, ngram_range=(1, 1))),\n",
    "                     ('logreg', LogisticRegression(solver='lbfgs'))\n",
    "])\n",
    "\n",
    "pipeline_logreg.fit(X_train.Corpus, y_train)"
   ]
  },
  {
   "cell_type": "code",
   "execution_count": 15,
   "id": "160e4fc9",
   "metadata": {
    "id": "8f3caae6"
   },
   "outputs": [],
   "source": [
    "parameters_logreg = {\n",
    "    'logreg__penalty': ['l1', 'l2'],\n",
    "    'logreg__C': [100, 10, 1.0, 0.1, 0.01]\n",
    "}"
   ]
  },
  {
   "cell_type": "code",
   "execution_count": 16,
   "id": "0151046f",
   "metadata": {
    "colab": {
     "base_uri": "https://localhost:8080/"
    },
    "id": "982df6ea",
    "outputId": "d942db20-0834-466b-ecfc-e1a452a4240a",
    "scrolled": true
   },
   "outputs": [
    {
     "name": "stdout",
     "output_type": "stream",
     "text": [
      "Fitting 5 folds for each of 10 candidates, totalling 50 fits\n"
     ]
    },
    {
     "name": "stderr",
     "output_type": "stream",
     "text": [
      "[Parallel(n_jobs=-1)]: Using backend LokyBackend with 2 concurrent workers.\n",
      "[Parallel(n_jobs=-1)]: Done  14 tasks      | elapsed:    2.0s\n"
     ]
    },
    {
     "name": "stdout",
     "output_type": "stream",
     "text": [
      "CPU times: user 418 ms, sys: 41.8 ms, total: 460 ms\n",
      "Wall time: 3.61 s\n"
     ]
    },
    {
     "name": "stderr",
     "output_type": "stream",
     "text": [
      "[Parallel(n_jobs=-1)]: Done  47 out of  50 | elapsed:    3.5s remaining:    0.2s\n",
      "[Parallel(n_jobs=-1)]: Done  50 out of  50 | elapsed:    3.5s finished\n"
     ]
    }
   ],
   "source": [
    "%%time\n",
    "\n",
    "clf_logreg = GridSearchCV(pipeline_logreg, parameters_logreg, n_jobs=-1, verbose=5)\n",
    "clf_logreg.fit(X_train.Corpus, y_train)"
   ]
  },
  {
   "cell_type": "code",
   "execution_count": 17,
   "id": "a3263025",
   "metadata": {
    "colab": {
     "base_uri": "https://localhost:8080/"
    },
    "id": "6a48cbb3",
    "outputId": "c524f6e7-8f4a-4b1d-ffd6-1b72af2ff51c"
   },
   "outputs": [
    {
     "data": {
      "text/plain": [
       "{'logreg__C': 1.0, 'logreg__penalty': 'l2'}"
      ]
     },
     "execution_count": 17,
     "metadata": {},
     "output_type": "execute_result"
    }
   ],
   "source": [
    "clf_logreg.best_params_"
   ]
  },
  {
   "cell_type": "code",
   "execution_count": 18,
   "id": "5213f9eb",
   "metadata": {
    "colab": {
     "base_uri": "https://localhost:8080/"
    },
    "id": "4faf8c5e",
    "outputId": "b6eb4ac2-fd32-4dc3-df6d-95086d09e5da"
   },
   "outputs": [
    {
     "data": {
      "text/plain": [
       "0.7742782152230971"
      ]
     },
     "execution_count": 18,
     "metadata": {},
     "output_type": "execute_result"
    }
   ],
   "source": [
    "lr = LogisticRegression(C=1, penalty='l2')\n",
    "\n",
    "lr.fit(X_train_dtm, y_train)\n",
    "\n",
    "metrics.accuracy_score(y_test, lr.predict(X_test_dtm))"
   ]
  },
  {
   "cell_type": "code",
   "execution_count": 19,
   "id": "d8256774",
   "metadata": {
    "colab": {
     "base_uri": "https://localhost:8080/"
    },
    "id": "8f5e9014",
    "outputId": "9c96261d-57bd-438b-a775-7a20af9641b3"
   },
   "outputs": [
    {
     "name": "stdout",
     "output_type": "stream",
     "text": [
      "[[263  96]\n",
      " [ 76 327]]\n",
      "              precision    recall  f1-score   support\n",
      "\n",
      "      Dovish       0.78      0.73      0.75       359\n",
      "     Hawkish       0.77      0.81      0.79       403\n",
      "\n",
      "    accuracy                           0.77       762\n",
      "   macro avg       0.77      0.77      0.77       762\n",
      "weighted avg       0.77      0.77      0.77       762\n",
      "\n"
     ]
    }
   ],
   "source": [
    "# Print the confusion matrix\n",
    "target_names = ['Dovish', \"Hawkish\"]\n",
    "\n",
    "print(metrics.confusion_matrix(y_test, lr.predict(X_test_dtm)))\n",
    "\n",
    "# Print the precision and recall, among other metrics\n",
    "print(metrics.classification_report(y_test, lr.predict(X_test_dtm), digits=2, target_names=target_names))"
   ]
  },
  {
   "cell_type": "markdown",
   "id": "3763664a",
   "metadata": {
    "id": "0239948f"
   },
   "source": [
    "### SVM"
   ]
  },
  {
   "cell_type": "code",
   "execution_count": 20,
   "id": "75044af5",
   "metadata": {
    "colab": {
     "base_uri": "https://localhost:8080/"
    },
    "id": "e302b6ab",
    "outputId": "24d3f74c-4447-4cb4-bf50-29de96dcf873"
   },
   "outputs": [
    {
     "name": "stdout",
     "output_type": "stream",
     "text": [
      "Fitting 5 folds for each of 12 candidates, totalling 60 fits\n"
     ]
    },
    {
     "name": "stderr",
     "output_type": "stream",
     "text": [
      "[Parallel(n_jobs=-1)]: Using backend LokyBackend with 2 concurrent workers.\n",
      "[Parallel(n_jobs=-1)]: Done  14 tasks      | elapsed:    4.3s\n",
      "[Parallel(n_jobs=-1)]: Done  60 out of  60 | elapsed:   17.6s finished\n"
     ]
    },
    {
     "name": "stdout",
     "output_type": "stream",
     "text": [
      "CPU times: user 999 ms, sys: 42.9 ms, total: 1.04 s\n",
      "Wall time: 18.1 s\n"
     ]
    }
   ],
   "source": [
    "%%time\n",
    "\n",
    "svm_params = {'C': [0.1, 1, 10, 100], 'gamma': [1, 0.1, 0.01]}\n",
    "\n",
    "sv = svm.SVC()\n",
    "\n",
    "svm_clf = GridSearchCV(sv, svm_params, verbose=5, n_jobs=-1)\n",
    "svm_clf.fit(X_train_dtm, y_train)"
   ]
  },
  {
   "cell_type": "code",
   "execution_count": 22,
   "id": "11443e80",
   "metadata": {
    "colab": {
     "base_uri": "https://localhost:8080/"
    },
    "id": "2e34242f",
    "outputId": "c4075260-483e-4b40-d781-a636165dde8f"
   },
   "outputs": [
    {
     "data": {
      "text/plain": [
       "{'C': 100, 'gamma': 1}"
      ]
     },
     "execution_count": 22,
     "metadata": {},
     "output_type": "execute_result"
    }
   ],
   "source": [
    "svm_clf.best_params_"
   ]
  },
  {
   "cell_type": "code",
   "execution_count": 25,
   "id": "ab401921",
   "metadata": {
    "colab": {
     "base_uri": "https://localhost:8080/"
    },
    "id": "d8-ByilP7dQm",
    "outputId": "acba0197-274b-455c-eb81-f90033834101"
   },
   "outputs": [
    {
     "name": "stdout",
     "output_type": "stream",
     "text": [
      "Fitting 5 folds for each of 36 candidates, totalling 180 fits\n"
     ]
    },
    {
     "name": "stderr",
     "output_type": "stream",
     "text": [
      "[Parallel(n_jobs=-1)]: Using backend LokyBackend with 2 concurrent workers.\n",
      "[Parallel(n_jobs=-1)]: Done  14 tasks      | elapsed:    4.6s\n",
      "[Parallel(n_jobs=-1)]: Done  68 tasks      | elapsed:   21.2s\n",
      "[Parallel(n_jobs=-1)]: Done 158 tasks      | elapsed:   48.9s\n",
      "[Parallel(n_jobs=-1)]: Done 180 out of 180 | elapsed:   56.4s finished\n"
     ]
    },
    {
     "data": {
      "text/plain": [
       "{'C': 100, 'gamma': 1}"
      ]
     },
     "execution_count": 25,
     "metadata": {},
     "output_type": "execute_result"
    }
   ],
   "source": [
    "svm_params = {'C': [0.1, 1, 10, 100, 1000, 10000], 'gamma': [1000, 100, 10, 1, 0.1, 0.01]}\n",
    "\n",
    "sv = svm.SVC()\n",
    "\n",
    "svm_clf = GridSearchCV(sv, svm_params, verbose=5, n_jobs=-1)\n",
    "svm_clf.fit(X_train_dtm, y_train)\n",
    "svm_clf.best_params_"
   ]
  },
  {
   "cell_type": "code",
   "execution_count": 26,
   "id": "9d6fb1a2",
   "metadata": {
    "colab": {
     "base_uri": "https://localhost:8080/"
    },
    "id": "a323909e",
    "outputId": "623f2e1f-8a52-40ed-c37e-1093445734d0"
   },
   "outputs": [
    {
     "data": {
      "text/plain": [
       "SVC(C=100, break_ties=False, cache_size=200, class_weight=None, coef0=0.0,\n",
       "    decision_function_shape='ovr', degree=3, gamma=1, kernel='rbf', max_iter=-1,\n",
       "    probability=False, random_state=None, shrinking=True, tol=0.001,\n",
       "    verbose=False)"
      ]
     },
     "execution_count": 26,
     "metadata": {},
     "output_type": "execute_result"
    }
   ],
   "source": [
    "sv = svm.SVC(C=100, gamma=1)\n",
    "\n",
    "sv.fit(X_train_dtm, y_train)"
   ]
  },
  {
   "cell_type": "code",
   "execution_count": 27,
   "id": "e4cf0c3d",
   "metadata": {
    "colab": {
     "base_uri": "https://localhost:8080/"
    },
    "id": "13f90150",
    "outputId": "0c466155-5981-4b10-9901-d547ea0e3223"
   },
   "outputs": [
    {
     "data": {
      "text/plain": [
       "0.7755905511811023"
      ]
     },
     "execution_count": 27,
     "metadata": {},
     "output_type": "execute_result"
    }
   ],
   "source": [
    "metrics.accuracy_score(y_test, sv.predict(X_test_dtm))"
   ]
  },
  {
   "cell_type": "code",
   "execution_count": 28,
   "id": "6c14a446",
   "metadata": {
    "colab": {
     "base_uri": "https://localhost:8080/"
    },
    "id": "70bc491c",
    "outputId": "d48657bb-a1d6-4437-cd1e-8fd1c425c395"
   },
   "outputs": [
    {
     "name": "stdout",
     "output_type": "stream",
     "text": [
      "[[273  86]\n",
      " [ 85 318]]\n",
      "              precision    recall  f1-score   support\n",
      "\n",
      "      Dovish      0.763     0.760     0.762       359\n",
      "     Hawkish      0.787     0.789     0.788       403\n",
      "\n",
      "    accuracy                          0.776       762\n",
      "   macro avg      0.775     0.775     0.775       762\n",
      "weighted avg      0.776     0.776     0.776       762\n",
      "\n"
     ]
    }
   ],
   "source": [
    "# Print the confusion matrix\n",
    "print(metrics.confusion_matrix(y_test, sv.predict(X_test_dtm)))\n",
    "\n",
    "# Print the precision and recall, among other metrics\n",
    "print(metrics.classification_report(y_test, sv.predict(X_test_dtm), digits=3, target_names=target_names))"
   ]
  },
  {
   "cell_type": "markdown",
   "id": "473660d5",
   "metadata": {
    "id": "8642f221"
   },
   "source": [
    "### Naive Bayes"
   ]
  },
  {
   "cell_type": "code",
   "execution_count": 29,
   "id": "2fe069db",
   "metadata": {
    "colab": {
     "base_uri": "https://localhost:8080/"
    },
    "id": "030f54ce",
    "outputId": "e7f16b2e-9dc9-4147-a4b9-f9930ad15c91"
   },
   "outputs": [
    {
     "data": {
      "text/plain": [
       "0.7125984251968503"
      ]
     },
     "execution_count": 29,
     "metadata": {},
     "output_type": "execute_result"
    }
   ],
   "source": [
    "nb = MultinomialNB()\n",
    "\n",
    "nb.fit(X_train_dtm, y_train)\n",
    "\n",
    "metrics.accuracy_score(y_test, nb.predict(X_test_dtm))"
   ]
  },
  {
   "cell_type": "code",
   "execution_count": 30,
   "id": "da772c9e",
   "metadata": {
    "colab": {
     "base_uri": "https://localhost:8080/"
    },
    "id": "40fcd152",
    "outputId": "abc80915-c5e2-427a-d7c2-1f1436e9f124"
   },
   "outputs": [
    {
     "name": "stdout",
     "output_type": "stream",
     "text": [
      "Fitting 5 folds for each of 17 candidates, totalling 85 fits\n"
     ]
    },
    {
     "name": "stderr",
     "output_type": "stream",
     "text": [
      "[Parallel(n_jobs=-1)]: Using backend LokyBackend with 2 concurrent workers.\n",
      "[Parallel(n_jobs=-1)]: Done  14 tasks      | elapsed:    1.3s\n",
      "[Parallel(n_jobs=-1)]: Done  85 out of  85 | elapsed:    1.6s finished\n"
     ]
    },
    {
     "data": {
      "text/plain": [
       "GridSearchCV(cv=None, error_score=nan,\n",
       "             estimator=MultinomialNB(alpha=1.0, class_prior=None,\n",
       "                                     fit_prior=True),\n",
       "             iid='deprecated', n_jobs=-1,\n",
       "             param_grid={'alpha': [1000, 500, 100, 50, 10, 7, 6, 5, 4, 2, 1,\n",
       "                                   0.5, 0.1, 0.05, 0.01, 0.005, 0.001]},\n",
       "             pre_dispatch='2*n_jobs', refit=True, return_train_score=False,\n",
       "             scoring=None, verbose=5)"
      ]
     },
     "execution_count": 30,
     "metadata": {},
     "output_type": "execute_result"
    }
   ],
   "source": [
    "nb_params = {\n",
    "    'alpha': [1000,500,100,50,10,7,6,5,4,2,1,0.5,0.1,0.05,0.01,0.005,0.001]\n",
    "}\n",
    "\n",
    "clf_nb = GridSearchCV(nb, nb_params, verbose=5, n_jobs=-1)\n",
    "clf_nb.fit(X_train_dtm, y_train)"
   ]
  },
  {
   "cell_type": "code",
   "execution_count": 31,
   "id": "6e3a8805",
   "metadata": {
    "colab": {
     "base_uri": "https://localhost:8080/"
    },
    "id": "eaab43ef",
    "outputId": "6e4df8e8-f121-4603-f402-941fd2e2991c"
   },
   "outputs": [
    {
     "data": {
      "text/plain": [
       "{'alpha': 2}"
      ]
     },
     "execution_count": 31,
     "metadata": {},
     "output_type": "execute_result"
    }
   ],
   "source": [
    "clf_nb.best_params_"
   ]
  },
  {
   "cell_type": "code",
   "execution_count": 32,
   "id": "769d5651",
   "metadata": {
    "colab": {
     "base_uri": "https://localhost:8080/"
    },
    "id": "f848a3fa",
    "outputId": "be1b7f20-5a22-4619-c2ef-a470b7f5b9b6"
   },
   "outputs": [
    {
     "data": {
      "text/plain": [
       "0.7165354330708661"
      ]
     },
     "execution_count": 32,
     "metadata": {},
     "output_type": "execute_result"
    }
   ],
   "source": [
    "nb = MultinomialNB(alpha=2)\n",
    "\n",
    "nb.fit(X_train_dtm, y_train)\n",
    "\n",
    "metrics.accuracy_score(y_test, nb.predict(X_test_dtm))"
   ]
  },
  {
   "cell_type": "code",
   "execution_count": 33,
   "id": "9ece361e",
   "metadata": {
    "colab": {
     "base_uri": "https://localhost:8080/"
    },
    "id": "766e0dca",
    "outputId": "f8b5d674-f90e-4092-a22a-e6d2e1df7c8a"
   },
   "outputs": [
    {
     "name": "stdout",
     "output_type": "stream",
     "text": [
      "[[223 136]\n",
      " [ 80 323]]\n",
      "              precision    recall  f1-score   support\n",
      "\n",
      "      Dovish      0.736     0.621     0.674       359\n",
      "     Hawkish      0.704     0.801     0.749       403\n",
      "\n",
      "    accuracy                          0.717       762\n",
      "   macro avg      0.720     0.711     0.712       762\n",
      "weighted avg      0.719     0.717     0.714       762\n",
      "\n"
     ]
    }
   ],
   "source": [
    "# Print the confusion matrix\n",
    "print(metrics.confusion_matrix(y_test, nb.predict(X_test_dtm)))\n",
    "\n",
    "# Print the precision and recall, among other metrics\n",
    "print(metrics.classification_report(y_test, nb.predict(X_test_dtm), digits=3, target_names=target_names))"
   ]
  },
  {
   "cell_type": "markdown",
   "id": "c732157e",
   "metadata": {
    "id": "367b2ca5"
   },
   "source": [
    "### XGBoost Model"
   ]
  },
  {
   "cell_type": "code",
   "execution_count": null,
   "id": "c76447b7",
   "metadata": {},
   "outputs": [],
   "source": [
    "%%time\n",
    "\n",
    "xg_params = {'max_depth': range(3,10,1), \n",
    "             'min_child_weight': range(1,8,2)\n",
    "            }\n",
    "\n",
    "xg = XGBClassifier()\n",
    "\n",
    "xg_clf = GridSearchCV(xg, xg_params, verbose=5, n_jobs=-1)\n",
    "xg_clf.fit(X_train_dtm, y_train)"
   ]
  },
  {
   "cell_type": "code",
   "execution_count": 35,
   "id": "bb9e65d9",
   "metadata": {
    "colab": {
     "base_uri": "https://localhost:8080/"
    },
    "id": "2795861c",
    "outputId": "d071f67d-a4a5-4937-a045-1cfe4878cde6"
   },
   "outputs": [
    {
     "data": {
      "text/plain": [
       "{'max_depth': 8, 'min_child_weight': 1}"
      ]
     },
     "execution_count": 35,
     "metadata": {},
     "output_type": "execute_result"
    }
   ],
   "source": [
    "xg_clf.best_params_"
   ]
  },
  {
   "cell_type": "code",
   "execution_count": 36,
   "id": "68d06e4c",
   "metadata": {
    "colab": {
     "base_uri": "https://localhost:8080/"
    },
    "id": "6a057361",
    "outputId": "d11f8e5a-8701-4294-ccc4-47a206f5664d"
   },
   "outputs": [
    {
     "name": "stdout",
     "output_type": "stream",
     "text": [
      "Fitting 5 folds for each of 50 candidates, totalling 250 fits\n"
     ]
    },
    {
     "name": "stderr",
     "output_type": "stream",
     "text": [
      "[Parallel(n_jobs=-1)]: Using backend LokyBackend with 2 concurrent workers.\n",
      "[Parallel(n_jobs=-1)]: Done  14 tasks      | elapsed:    3.1s\n",
      "[Parallel(n_jobs=-1)]: Done  68 tasks      | elapsed:   12.1s\n",
      "[Parallel(n_jobs=-1)]: Done 158 tasks      | elapsed:   44.1s\n",
      "[Parallel(n_jobs=-1)]: Done 250 out of 250 | elapsed:  1.6min finished\n"
     ]
    },
    {
     "name": "stdout",
     "output_type": "stream",
     "text": [
      "CPU times: user 2.66 s, sys: 177 ms, total: 2.84 s\n",
      "Wall time: 1min 36s\n"
     ]
    }
   ],
   "source": [
    "%%time\n",
    "\n",
    "xg_params_updated = {'max_depth': range(1,11,2), \n",
    "             'min_child_weight': range(1,21,2)\n",
    "            }\n",
    "\n",
    "xg = XGBClassifier()\n",
    "\n",
    "xg_clf_updated = GridSearchCV(xg, xg_params_updated, verbose=5, n_jobs=-1)\n",
    "xg_clf_updated.fit(X_train_dtm, y_train)"
   ]
  },
  {
   "cell_type": "code",
   "execution_count": 37,
   "id": "4332dfcb",
   "metadata": {
    "colab": {
     "base_uri": "https://localhost:8080/"
    },
    "id": "4adaab47",
    "outputId": "9b5a88b5-7745-4fe1-d50e-3ef33ea29f94"
   },
   "outputs": [
    {
     "data": {
      "text/plain": [
       "{'max_depth': 5, 'min_child_weight': 1}"
      ]
     },
     "execution_count": 37,
     "metadata": {},
     "output_type": "execute_result"
    }
   ],
   "source": [
    "xg_clf_updated.best_params_"
   ]
  },
  {
   "cell_type": "code",
   "execution_count": 39,
   "id": "60e4cc51",
   "metadata": {
    "colab": {
     "base_uri": "https://localhost:8080/"
    },
    "id": "68362054",
    "outputId": "6d9f8ff0-6622-4cbe-b9a0-9a8fb9297123"
   },
   "outputs": [
    {
     "data": {
      "text/plain": [
       "0.7506561679790026"
      ]
     },
     "execution_count": 39,
     "metadata": {},
     "output_type": "execute_result"
    }
   ],
   "source": [
    "xg = XGBClassifier(max_depth=5, min_child_weight=1)\n",
    "\n",
    "xg.fit(X_train_dtm, y_train)\n",
    "\n",
    "metrics.accuracy_score(y_test, xg.predict(X_test_dtm))"
   ]
  },
  {
   "cell_type": "code",
   "execution_count": 40,
   "id": "36f9c146",
   "metadata": {
    "colab": {
     "base_uri": "https://localhost:8080/"
    },
    "id": "8e673b51",
    "outputId": "94766290-6376-4fe4-a5b2-c43aa6606709"
   },
   "outputs": [
    {
     "name": "stdout",
     "output_type": "stream",
     "text": [
      "[[264  95]\n",
      " [ 95 308]]\n",
      "              precision    recall  f1-score   support\n",
      "\n",
      "      Dovish      0.735     0.735     0.735       359\n",
      "     Hawkish      0.764     0.764     0.764       403\n",
      "\n",
      "    accuracy                          0.751       762\n",
      "   macro avg      0.750     0.750     0.750       762\n",
      "weighted avg      0.751     0.751     0.751       762\n",
      "\n"
     ]
    }
   ],
   "source": [
    "# Print the confusion matrix\n",
    "print(metrics.confusion_matrix(y_test, xg.predict(X_test_dtm)))\n",
    "\n",
    "# Print the precision and recall, among other metrics\n",
    "print(metrics.classification_report(y_test, xg.predict(X_test_dtm), digits=3, target_names=target_names))"
   ]
  },
  {
   "cell_type": "markdown",
   "id": "d28c46c5",
   "metadata": {
    "id": "887e9bfa"
   },
   "source": [
    "### Decision Tree"
   ]
  },
  {
   "cell_type": "code",
   "execution_count": 41,
   "id": "b81a7ccd",
   "metadata": {
    "colab": {
     "base_uri": "https://localhost:8080/"
    },
    "id": "ebb60c92",
    "outputId": "97844e9d-fdfa-4ea2-d315-6fbd12ed06ab"
   },
   "outputs": [
    {
     "name": "stdout",
     "output_type": "stream",
     "text": [
      "Fitting 5 folds for each of 1296 candidates, totalling 6480 fits\n"
     ]
    },
    {
     "name": "stderr",
     "output_type": "stream",
     "text": [
      "[Parallel(n_jobs=-1)]: Using backend LokyBackend with 2 concurrent workers.\n",
      "[Parallel(n_jobs=-1)]: Done  14 tasks      | elapsed:    1.4s\n",
      "[Parallel(n_jobs=-1)]: Done 712 tasks      | elapsed:    5.3s\n",
      "[Parallel(n_jobs=-1)]: Done 2152 tasks      | elapsed:   23.5s\n",
      "[Parallel(n_jobs=-1)]: Done 4168 tasks      | elapsed:   58.8s\n",
      "[Parallel(n_jobs=-1)]: Done 5696 tasks      | elapsed:  1.5min\n"
     ]
    },
    {
     "name": "stdout",
     "output_type": "stream",
     "text": [
      "CPU times: user 8.56 s, sys: 408 ms, total: 8.96 s\n",
      "Wall time: 1min 59s\n"
     ]
    },
    {
     "name": "stderr",
     "output_type": "stream",
     "text": [
      "[Parallel(n_jobs=-1)]: Done 6480 out of 6480 | elapsed:  2.0min finished\n"
     ]
    }
   ],
   "source": [
    "%%time\n",
    "\n",
    "dt_params = {'criterion': ['gini', 'entropy'], \n",
    "             'splitter': ['best', 'random'], \n",
    "             'max_depth': [2, 3, 4, 5, 10, 15, 20, 25, 30], \n",
    "             'min_samples_split': [2, 3, 5, 7, 9, 15, 30, 50, 100],\n",
    "             'min_samples_leaf': [1, 2, 5, 10],\n",
    "            }\n",
    "\n",
    "dt = tree.DecisionTreeClassifier()\n",
    "\n",
    "dt_clf = GridSearchCV(dt, dt_params, verbose=5, n_jobs=-1)\n",
    "dt_clf.fit(X_train_dtm, y_train)"
   ]
  },
  {
   "cell_type": "code",
   "execution_count": 42,
   "id": "88c9a383",
   "metadata": {
    "colab": {
     "base_uri": "https://localhost:8080/"
    },
    "id": "33a6f0c5",
    "outputId": "203055f7-a46d-41f6-f9f6-57d8004464a0"
   },
   "outputs": [
    {
     "data": {
      "text/plain": [
       "{'criterion': 'gini',\n",
       " 'max_depth': 30,\n",
       " 'min_samples_leaf': 1,\n",
       " 'min_samples_split': 30,\n",
       " 'splitter': 'random'}"
      ]
     },
     "execution_count": 42,
     "metadata": {},
     "output_type": "execute_result"
    }
   ],
   "source": [
    "dt_clf.best_params_"
   ]
  },
  {
   "cell_type": "code",
   "execution_count": 43,
   "id": "e171a78f",
   "metadata": {
    "colab": {
     "base_uri": "https://localhost:8080/"
    },
    "id": "e3405efb",
    "outputId": "02488c7d-1f50-42ac-9377-e77c406e9a7c"
   },
   "outputs": [
    {
     "data": {
      "text/plain": [
       "0.7112860892388452"
      ]
     },
     "execution_count": 43,
     "metadata": {},
     "output_type": "execute_result"
    }
   ],
   "source": [
    "dt = tree.DecisionTreeClassifier(criterion='gini', max_depth=30, min_samples_leaf=1, min_samples_split=30, splitter='random')\n",
    "\n",
    "dt.fit(X_train_dtm, y_train)\n",
    "\n",
    "metrics.accuracy_score(y_test, dt.predict(X_test_dtm))"
   ]
  },
  {
   "cell_type": "code",
   "execution_count": 44,
   "id": "6dad6891",
   "metadata": {
    "colab": {
     "base_uri": "https://localhost:8080/"
    },
    "id": "28584d3c",
    "outputId": "bca87c38-c74b-4d93-a1af-7c108eedc2de"
   },
   "outputs": [
    {
     "name": "stdout",
     "output_type": "stream",
     "text": [
      "[[285  74]\n",
      " [146 257]]\n",
      "              precision    recall  f1-score   support\n",
      "\n",
      "      Dovish      0.661     0.794     0.722       359\n",
      "     Hawkish      0.776     0.638     0.700       403\n",
      "\n",
      "    accuracy                          0.711       762\n",
      "   macro avg      0.719     0.716     0.711       762\n",
      "weighted avg      0.722     0.711     0.710       762\n",
      "\n"
     ]
    }
   ],
   "source": [
    "# Print the confusion matrix\n",
    "print(metrics.confusion_matrix(y_test, dt.predict(X_test_dtm)))\n",
    "\n",
    "# Print the precision and recall, among other metrics\n",
    "print(metrics.classification_report(y_test, dt.predict(X_test_dtm), digits=3, target_names=target_names))"
   ]
  },
  {
   "cell_type": "markdown",
   "id": "a3571c31",
   "metadata": {
    "id": "3e6c9b64"
   },
   "source": [
    "### KNN Model"
   ]
  },
  {
   "cell_type": "code",
   "execution_count": 55,
   "id": "524847fb",
   "metadata": {
    "colab": {
     "base_uri": "https://localhost:8080/"
    },
    "id": "7130f4cc",
    "outputId": "d8175a36-39ab-4848-f499-3a1544947e6e"
   },
   "outputs": [
    {
     "name": "stdout",
     "output_type": "stream",
     "text": [
      "Fitting 5 folds for each of 50 candidates, totalling 250 fits\n"
     ]
    },
    {
     "name": "stderr",
     "output_type": "stream",
     "text": [
      "[Parallel(n_jobs=-1)]: Using backend LokyBackend with 2 concurrent workers.\n",
      "[Parallel(n_jobs=-1)]: Done  36 tasks      | elapsed:    1.0s\n"
     ]
    },
    {
     "name": "stdout",
     "output_type": "stream",
     "text": [
      "CPU times: user 604 ms, sys: 42.8 ms, total: 647 ms\n",
      "Wall time: 7.27 s\n"
     ]
    },
    {
     "name": "stderr",
     "output_type": "stream",
     "text": [
      "[Parallel(n_jobs=-1)]: Done 246 tasks      | elapsed:    7.1s\n",
      "[Parallel(n_jobs=-1)]: Done 250 out of 250 | elapsed:    7.3s finished\n"
     ]
    }
   ],
   "source": [
    "%%time\n",
    "\n",
    "knn_params = {'n_neighbors': np.arange(1,100,2)}\n",
    "\n",
    "knn = KNeighborsClassifier()\n",
    "\n",
    "knn_clf = GridSearchCV(knn, knn_params, verbose=5, n_jobs=-1)\n",
    "knn_clf.fit(X_train_dtm, y_train)"
   ]
  },
  {
   "cell_type": "code",
   "execution_count": 56,
   "id": "762bdb26",
   "metadata": {
    "colab": {
     "base_uri": "https://localhost:8080/"
    },
    "id": "e95e96e2",
    "outputId": "3d2d8d94-c952-4980-fa08-a38019462c4f"
   },
   "outputs": [
    {
     "data": {
      "text/plain": [
       "{'n_neighbors': 29}"
      ]
     },
     "execution_count": 56,
     "metadata": {},
     "output_type": "execute_result"
    }
   ],
   "source": [
    "knn_clf.best_params_"
   ]
  },
  {
   "cell_type": "code",
   "execution_count": 57,
   "id": "f271c58b",
   "metadata": {
    "colab": {
     "base_uri": "https://localhost:8080/"
    },
    "id": "a2145c20",
    "outputId": "d44a90d6-ac46-431d-bd25-29e4b957ed60"
   },
   "outputs": [
    {
     "data": {
      "text/plain": [
       "0.6614173228346457"
      ]
     },
     "execution_count": 57,
     "metadata": {},
     "output_type": "execute_result"
    }
   ],
   "source": [
    "knn = KNeighborsClassifier(n_neighbors=29)\n",
    "\n",
    "knn.fit(X_train_dtm, y_train)\n",
    "\n",
    "metrics.accuracy_score(y_test, knn.predict(X_test_dtm))"
   ]
  },
  {
   "cell_type": "code",
   "execution_count": 58,
   "id": "68036d54",
   "metadata": {
    "colab": {
     "base_uri": "https://localhost:8080/"
    },
    "id": "9e1e02ea",
    "outputId": "5d87607c-37c2-4c57-d028-5b4be5631e0b"
   },
   "outputs": [
    {
     "name": "stdout",
     "output_type": "stream",
     "text": [
      "[[197 162]\n",
      " [ 96 307]]\n",
      "              precision    recall  f1-score   support\n",
      "\n",
      "      Dovish      0.672     0.549     0.604       359\n",
      "     Hawkish      0.655     0.762     0.704       403\n",
      "\n",
      "    accuracy                          0.661       762\n",
      "   macro avg      0.663     0.655     0.654       762\n",
      "weighted avg      0.663     0.661     0.657       762\n",
      "\n"
     ]
    }
   ],
   "source": [
    "# Print the confusion matrix\n",
    "print(metrics.confusion_matrix(y_test, knn.predict(X_test_dtm)))\n",
    "\n",
    "# Print the precision and recall, among other metrics\n",
    "print(metrics.classification_report(y_test, knn.predict(X_test_dtm), digits=3, target_names=target_names))"
   ]
  },
  {
   "cell_type": "markdown",
   "id": "0949c49f",
   "metadata": {
    "id": "29f62790"
   },
   "source": [
    "### Ensemble Models"
   ]
  },
  {
   "cell_type": "code",
   "execution_count": 61,
   "id": "d5f5c2fb",
   "metadata": {
    "id": "09b55c15"
   },
   "outputs": [],
   "source": [
    "base_models = [\n",
    "    ('lr', lr),\n",
    "    # ('sv', sv),\n",
    "    ('nb', nb),\n",
    "    ('xg', xg),\n",
    "    ('dt', dt),\n",
    "    ('knn', knn)\n",
    "]\n",
    "\n",
    "# meta_model = LogisticRegression(max_iter=1000)\n",
    "meta_model = svm.SVC(C=100, gamma=1)"
   ]
  },
  {
   "cell_type": "code",
   "execution_count": 62,
   "id": "a57acf3a",
   "metadata": {
    "colab": {
     "base_uri": "https://localhost:8080/"
    },
    "id": "84a6c96e",
    "outputId": "02c238cb-60aa-4f81-bb46-629d167ec56f"
   },
   "outputs": [
    {
     "name": "stdout",
     "output_type": "stream",
     "text": [
      "CPU times: user 245 ms, sys: 12.1 ms, total: 257 ms\n",
      "Wall time: 3.89 s\n"
     ]
    }
   ],
   "source": [
    "%%time\n",
    "\n",
    "stacked_model = StackingClassifier(estimators=base_models, final_estimator=meta_model, n_jobs=-1, verbose=5)\n",
    "stacked_model.fit(X_train_dtm, y_train)"
   ]
  },
  {
   "cell_type": "code",
   "execution_count": 63,
   "id": "6dcd72d2",
   "metadata": {
    "colab": {
     "base_uri": "https://localhost:8080/"
    },
    "id": "a6d434e9",
    "outputId": "b9233358-df25-49a5-cf6b-08afa0679fcd"
   },
   "outputs": [
    {
     "data": {
      "text/plain": [
       "0.7755905511811023"
      ]
     },
     "execution_count": 63,
     "metadata": {},
     "output_type": "execute_result"
    }
   ],
   "source": [
    "stacked_model.score(X_test_dtm, y_test)"
   ]
  },
  {
   "cell_type": "code",
   "execution_count": 74,
   "id": "d989524b",
   "metadata": {
    "colab": {
     "base_uri": "https://localhost:8080/"
    },
    "id": "57d90af1",
    "outputId": "07b4c868-67b0-4c02-bbc0-976d63b1095c"
   },
   "outputs": [
    {
     "name": "stdout",
     "output_type": "stream",
     "text": [
      "CPU times: user 162 ms, sys: 5.19 ms, total: 167 ms\n",
      "Wall time: 3.84 s\n"
     ]
    }
   ],
   "source": [
    "%%time\n",
    "\n",
    "stacked_model_svm = StackingClassifier(estimators=base_models, final_estimator=svm.SVC(), n_jobs=-1, verbose=5)\n",
    "stacked_model_svm.fit(X_train_dtm, y_train)"
   ]
  },
  {
   "cell_type": "code",
   "execution_count": 75,
   "id": "18cfc121",
   "metadata": {
    "colab": {
     "base_uri": "https://localhost:8080/"
    },
    "id": "82f5c0b2",
    "outputId": "da7fe813-4116-4d09-dfa5-653894f10d5f"
   },
   "outputs": [
    {
     "data": {
      "text/plain": [
       "0.7874015748031497"
      ]
     },
     "execution_count": 75,
     "metadata": {},
     "output_type": "execute_result"
    }
   ],
   "source": [
    "stacked_model_svm.score(X_test_dtm, y_test)"
   ]
  },
  {
   "cell_type": "code",
   "execution_count": 76,
   "id": "300b0400",
   "metadata": {
    "colab": {
     "base_uri": "https://localhost:8080/"
    },
    "id": "b4de1225",
    "outputId": "d37ed66f-1af2-47e2-e30e-1027c89aae3a"
   },
   "outputs": [
    {
     "name": "stdout",
     "output_type": "stream",
     "text": [
      "[[273  86]\n",
      " [ 76 327]]\n",
      "              precision    recall  f1-score   support\n",
      "\n",
      "      Dovish      0.782     0.760     0.771       359\n",
      "     Hawkish      0.792     0.811     0.801       403\n",
      "\n",
      "    accuracy                          0.787       762\n",
      "   macro avg      0.787     0.786     0.786       762\n",
      "weighted avg      0.787     0.787     0.787       762\n",
      "\n"
     ]
    }
   ],
   "source": [
    "# Print the confusion matrix\n",
    "print(metrics.confusion_matrix(y_test, stacked_model_svm.predict(X_test_dtm)))\n",
    "\n",
    "# Print the precision and recall, among other metrics\n",
    "print(metrics.classification_report(y_test, stacked_model_svm.predict(X_test_dtm), digits=3, target_names=target_names))"
   ]
  },
  {
   "cell_type": "code",
   "execution_count": 77,
   "id": "1f4c1e22",
   "metadata": {
    "colab": {
     "base_uri": "https://localhost:8080/",
     "height": 294
    },
    "id": "Jgj_UTCtOawb",
    "outputId": "fcd06bd3-2b3b-49d0-8839-49b5c4fccfaa"
   },
   "outputs": [
    {
     "data": {
      "image/png": "[encoded data removed]",
      "text/plain": [
       "<Figure size 432x288 with 1 Axes>"
      ]
     },
     "metadata": {
      "needs_background": "light"
     },
     "output_type": "display_data"
    }
   ],
   "source": [
    "# -1 -> 0 (DOVISH)\n",
    "# 1 -> 1 (HAWKISH)\n",
    "\n",
    "## for plotting\n",
    "import matplotlib.pyplot as plt\n",
    "import seaborn as sns\n",
    "\n",
    "classes = np.unique(y_test)\n",
    "fig, ax = plt.subplots()\n",
    "cm = metrics.confusion_matrix(y_test, stacked_model_svm.predict(X_test_dtm), labels=classes)\n",
    "sns.heatmap(cm, annot=True, fmt='d', cmap=plt.cm.Blues, cbar=False)\n",
    "ax.set(xlabel=\"Pred\", ylabel=\"True\", title=\"Confusion matrix\")\n",
    "ax.set_yticklabels(labels=classes, rotation=0)\n",
    "plt.show()"
   ]
  },
  {
   "cell_type": "code",
   "execution_count": 79,
   "id": "388f00bd",
   "metadata": {
    "id": "6a0fd07e"
   },
   "outputs": [],
   "source": [
    "def model_performance(models, model_names):\n",
    "    #create empty df with col names\n",
    "    df = pd.DataFrame(columns = ['Model', 'Accuracy', 'Precision', 'Recall', 'F1 score', 'ROC AUC'])\n",
    "\n",
    "    for n, model in enumerate(models):\n",
    "\n",
    "        y_pred = model.predict(X_test_dtm)\n",
    "\n",
    "        name = model_names[n]\n",
    "\n",
    "        acc = metrics.accuracy_score(y_test, y_pred)\n",
    "        prec = metrics.precision_score(y_test, y_pred)\n",
    "        recall = metrics.recall_score(y_test, y_pred)\n",
    "        f1 = metrics.f1_score(y_test, y_pred)\n",
    "        roc_auc = metrics.roc_auc_score(y_test, y_pred)\n",
    "\n",
    "        #append row to df\n",
    "        df = df.append(\n",
    "            {\n",
    "                'Model' : name,\n",
    "                'Accuracy': acc,\n",
    "                'Precision': prec,\n",
    "                'Recall': recall,\n",
    "                'F1 score': f1,\n",
    "                'ROC AUC': roc_auc\n",
    "            }, ignore_index = True)\n",
    "\n",
    "    return df.set_index('Model').transpose()"
   ]
  },
  {
   "cell_type": "code",
   "execution_count": 80,
   "id": "40e6a829",
   "metadata": {
    "colab": {
     "base_uri": "https://localhost:8080/",
     "height": 206
    },
    "id": "ae4b8cc2",
    "outputId": "ec24b951-5b40-4b5b-fe99-a421f6049b91"
   },
   "outputs": [
    {
     "data": {
      "text/html": [
       "<div>\n",
       "<style scoped>\n",
       "    .dataframe tbody tr th:only-of-type {\n",
       "        vertical-align: middle;\n",
       "    }\n",
       "\n",
       "    .dataframe tbody tr th {\n",
       "        vertical-align: top;\n",
       "    }\n",
       "\n",
       "    .dataframe thead th {\n",
       "        text-align: right;\n",
       "    }\n",
       "</style>\n",
       "<table border=\"1\" class=\"dataframe\">\n",
       "  <thead>\n",
       "    <tr style=\"text-align: right;\">\n",
       "      <th>Model</th>\n",
       "      <th>lr</th>\n",
       "      <th>sv</th>\n",
       "      <th>nb</th>\n",
       "      <th>xg</th>\n",
       "      <th>dt</th>\n",
       "      <th>knn</th>\n",
       "      <th>stack</th>\n",
       "    </tr>\n",
       "  </thead>\n",
       "  <tbody>\n",
       "    <tr>\n",
       "      <th>Accuracy</th>\n",
       "      <td>0.774278</td>\n",
       "      <td>0.775591</td>\n",
       "      <td>0.716535</td>\n",
       "      <td>0.750656</td>\n",
       "      <td>0.711286</td>\n",
       "      <td>0.661417</td>\n",
       "      <td>0.787402</td>\n",
       "    </tr>\n",
       "    <tr>\n",
       "      <th>Precision</th>\n",
       "      <td>0.773050</td>\n",
       "      <td>0.787129</td>\n",
       "      <td>0.703704</td>\n",
       "      <td>0.764268</td>\n",
       "      <td>0.776435</td>\n",
       "      <td>0.654584</td>\n",
       "      <td>0.791768</td>\n",
       "    </tr>\n",
       "    <tr>\n",
       "      <th>Recall</th>\n",
       "      <td>0.811414</td>\n",
       "      <td>0.789082</td>\n",
       "      <td>0.801489</td>\n",
       "      <td>0.764268</td>\n",
       "      <td>0.637717</td>\n",
       "      <td>0.761787</td>\n",
       "      <td>0.811414</td>\n",
       "    </tr>\n",
       "    <tr>\n",
       "      <th>F1 score</th>\n",
       "      <td>0.791768</td>\n",
       "      <td>0.788104</td>\n",
       "      <td>0.749420</td>\n",
       "      <td>0.764268</td>\n",
       "      <td>0.700272</td>\n",
       "      <td>0.704128</td>\n",
       "      <td>0.801471</td>\n",
       "    </tr>\n",
       "    <tr>\n",
       "      <th>ROC AUC</th>\n",
       "      <td>0.772002</td>\n",
       "      <td>0.774764</td>\n",
       "      <td>0.711329</td>\n",
       "      <td>0.749822</td>\n",
       "      <td>0.715794</td>\n",
       "      <td>0.655267</td>\n",
       "      <td>0.785930</td>\n",
       "    </tr>\n",
       "  </tbody>\n",
       "</table>\n",
       "</div>"
      ],
      "text/plain": [
       "Model            lr        sv        nb        xg        dt       knn     stack\n",
       "Accuracy   0.774278  0.775591  0.716535  0.750656  0.711286  0.661417  0.787402\n",
       "Precision  0.773050  0.787129  0.703704  0.764268  0.776435  0.654584  0.791768\n",
       "Recall     0.811414  0.789082  0.801489  0.764268  0.637717  0.761787  0.811414\n",
       "F1 score   0.791768  0.788104  0.749420  0.764268  0.700272  0.704128  0.801471\n",
       "ROC AUC    0.772002  0.774764  0.711329  0.749822  0.715794  0.655267  0.785930"
      ]
     },
     "execution_count": 80,
     "metadata": {},
     "output_type": "execute_result"
    }
   ],
   "source": [
    "model_performance([lr, sv, nb, xg, dt, knn, stacked_model_svm], ['lr', 'sv', 'nb', 'xg', 'dt', 'knn', 'stack'])"
   ]
  },
  {
   "cell_type": "markdown",
   "id": "9bfd9833",
   "metadata": {
    "id": "DXbWX0s5IRHP"
   },
   "source": [
    "### Finalised Model"
   ]
  },
  {
   "cell_type": "code",
   "execution_count": 81,
   "id": "54b06770",
   "metadata": {
    "id": "3qJikkEjoS4j"
   },
   "outputs": [],
   "source": [
    "# # save model to pickle\n",
    "# import pickle\n",
    "\n",
    "# # save the model to disk\n",
    "# filename = '../data/db/pickle/finalized_model_tuned.pickle'\n",
    "# dbfile =  open(filename, 'wb')\n",
    "# pickle.dump(stacked_model_svm, dbfile)\n",
    "# dbfile.close()\n",
    "\n",
    "# # save the model to disk\n",
    "# filename = '../data/db/pickle/tfidf_vect_tuned.pickle'\n",
    "# dbfile =  open(filename, 'wb')\n",
    "# pickle.dump(tfidf_vect, dbfile)\n",
    "# dbfile.close()"
   ]
  }
 ],
 "metadata": {
  "colab": {
   "collapsed_sections": [],
   "name": "03B_FOMC_Machine_Learning_Supervised_Sentiment_Analysis_(Binary Class).ipynb",
   "provenance": []
  },
  "kernelspec": {
   "display_name": "Python 3 (ipykernel)",
   "language": "python",
   "name": "python3"
  },
  "language_info": {
   "codemirror_mode": {
    "name": "ipython",
    "version": 3
   },
   "file_extension": ".py",
   "mimetype": "text/x-python",
   "name": "python",
   "nbconvert_exporter": "python",
   "pygments_lexer": "ipython3",
   "version": "3.7.11"
  }
 },
 "nbformat": 4,
 "nbformat_minor": 5
}
